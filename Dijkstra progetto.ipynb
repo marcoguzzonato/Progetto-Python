{
 "cells": [
  {
   "cell_type": "code",
   "execution_count": 9,
   "metadata": {},
   "outputs": [
    {
     "name": "stdout",
     "output_type": "stream",
     "text": [
      "['casa', 'A', 'C', 'D', 'E', 'uff'] 10\n",
      "0 casa False 0 casa\n",
      "1 A False 2 casa\n",
      "2 B False 8 A\n",
      "3 C False 4 A\n",
      "4 D False 6 C\n",
      "5 E False 9 D\n",
      "6 uff False 10 E\n"
     ]
    }
   ],
   "source": [
    "class nodo():\n",
    "\tdef __init__(self,ide,nome,defi,pot,coll,adia): #costruttore \n",
    "\t\tself.ide=ide #indice del nodo, definito per comodità\n",
    "\t\tself.nome=nome #nome del nodo, nel progetto giro del mondo i nodi prenderanno i nomi delle città\n",
    "\t\tself.defi=defi #è un flag, messo a T o F(all'inizio sono tutti T man mano che si controllano diventano F)\n",
    "\t\tself.pot=pot #è il potenziale di un nodo(ovvero il potenziale del nodo precedente più la distanza), all'inizio hanno tutti i nodi avranno potenziale infinito\n",
    "\t\tself.coll=coll #è il nodo precedente \n",
    "\t\tself.adia=adia #è un dizionario contenente i nodi più vicini a quello in cui siamo\n",
    "\n",
    "nodi=[] #struttura dati utililizzata per contenere il grafo (con all'interno tutti i nodi con i rispettivi attributi)\n",
    "\n",
    "nodi.append(nodo(0,\"casa\",True,float('inf'),\"\",{\"A\":2,\"D\":8})) \n",
    "nodi.append(nodo(1,\"A\",True,float('inf'),\"\",{\"B\":6,\"C\":2}))\n",
    "nodi.append(nodo(2,\"B\",True,float('inf'),\"\",{\"uff\":5}))\n",
    "nodi.append(nodo(3,\"C\",True,float('inf'),\"\",{\"D\":2,\"E\":9}))\n",
    "nodi.append(nodo(4,\"D\",True,float('inf'),\"\",{\"E\":3}))\n",
    "nodi.append(nodo(5,\"E\",True,float('inf'),\"\",{\"uff\":1}))\n",
    "nodi.append(nodo(6,\"uff\",True,float('inf'),\"\",{}))\n",
    "# Imposto l'elemento di partenza casa e l'elemento destinazione uff\n",
    "inizio=\"casa\"\n",
    "fine=\"uff\"\n",
    "\n",
    "for x in nodi: #impostiamo casa come primo nodo del grafo\n",
    "\tif(x.nome == inizio):\n",
    "\t\tx.defi=False #viene controllato è impostato il flag su F\n",
    "\t\tx.pot=0 #il potenziale è zero essendo il nodo di partenza\n",
    "\t\tx.coll=inizio #il nodo precedente non c'è in quanto stiamo controllando il primo nodo del grafo\n",
    "\t\ti=x.ide\n",
    "\n",
    "\n",
    "k=0\n",
    "\n",
    "while True: #partenza dell'algoritmo per il calcolo del percorso minimo del grafo\n",
    "\tfor x in nodi[i].adia.keys(): #ciclo sui nodi adiacenti del nodo casa(in quanto i=0 al primo giro)\n",
    "\t\tfor y in nodi: #ciclo sui nodi presenti all'interno del grafo\n",
    "\t\t\tif (y.nome == x and (y.defi or x==fine)): #se il nodo in oggetto è adiacente a quello precende e non è stato controllato oppure è quello finale entro nell'if\n",
    "\t\t\t\tsomma=nodi[i].pot + nodi[i].adia[x] #sommi il potenziale del nodo precedente con quello in oggetto(adiacente)\n",
    "\t\t\t\tif(y.pot>somma): #il potenziale è infinito(non essendo stato ancora controllato)\n",
    "\t\t\t\t\ty.pot=somma #il potenziale viene aggiornato(somma del potenziale del nodo precedente più la distanza)\n",
    "\t\t\t\t\ty.coll=nodi[i].nome #aggiorniamo il nodo di partenza con il nome di quello precedente\n",
    "\tm=float('inf')\n",
    "\tfor z in nodi: #ciclo sui nodi del grafo\n",
    "\t\tif(z.defi and(z.pot<m)): #se il nodo non è stato ancora controllato e il suo potenziale è definito entra nell'if\n",
    "\t\t\tm=z.pot #aggiorniamo il peso\n",
    "\t\t\tn=z.ide #salviamo il numero del nodo in cui ci troviamo\n",
    "\t\n",
    "\tnodi[n].defi=False #il nodo su cui ci troviamo è stato controllato e quindi mettiamo il flag come F\n",
    "\ti=n #il nodo da cui proseguiremo è quello su cui ci troviamo quindi aggiorniamo l'indice per il for al ciclo successivo\n",
    "\tif(k != 0 and nodi[i].nome == fine ): #se k è diverso da zero(quindi non siamo più al nodo di partenza) e il nodo su cui ci troviamo è quello finale entriamo nell'if\n",
    "\t\tlung=nodi[i].pot #la lunghezza del percorso sarà il peso dell'ultimo nodo su cui ci troviamo\n",
    "\t\tbreak\n",
    "\tk=k+1 #aggiorniamo k per un nuovo ciclo su un nodo successivo\n",
    "\n",
    "percorso=[] #struttura dati per contenere le tappe del percorso\n",
    "\n",
    "s=fine \n",
    "while True:\n",
    "\tpercorso.append(s) #aggiungo la destinazione al percorso\n",
    "\tfor x in nodi: #ciclco sui nodi del grafo\n",
    "\t\tif(x.nome == s): #se il nodo su cui ci troviamo è quello finale entro nell'if\n",
    "\t\t\ts=x.coll #imposto la variabile come il nodo a cui è collegato quello finale(ovvero il nodo, attraverso il quale, si arriva alla destinazione)\n",
    "\tif(s==inizio): #se il nodo in questione(precedente a quello finale) è quello iniziale entro nell'if\n",
    "\t\tpercorso.append(s) #nel caso in cui i due if precedenti siano veri entrambi al primo ciclo significa che il percorso ha solo due tappe: l'inizio e la fine\n",
    "\t\tbreak\n",
    "        \n",
    "percorso.reverse()\n",
    "print(percorso,lung) #stampo il percorso e la sua lunghezza\n",
    "\n",
    "for x in nodi: #ciclo sui nodi presenti nel grafo\n",
    "\tprint(x.ide,x.nome,x.defi,x.pot,x.coll) #per ogni nodo stampo l'indice,il nome, il flag, il potenziale definitivo, e il nodo precedente\n"
   ]
  },
  {
   "cell_type": "code",
   "execution_count": 7,
   "metadata": {},
   "outputs": [],
   "source": [
    "percorso.reverse()"
   ]
  },
  {
   "cell_type": "code",
   "execution_count": 8,
   "metadata": {},
   "outputs": [
    {
     "data": {
      "text/plain": [
       "['casa', 'A', 'C', 'D', 'E', 'uff']"
      ]
     },
     "execution_count": 8,
     "metadata": {},
     "output_type": "execute_result"
    }
   ],
   "source": [
    "percorso"
   ]
  },
  {
   "cell_type": "code",
   "execution_count": null,
   "metadata": {},
   "outputs": [],
   "source": []
  }
 ],
 "metadata": {
  "kernelspec": {
   "display_name": "Python 3",
   "language": "python",
   "name": "python3"
  },
  "language_info": {
   "codemirror_mode": {
    "name": "ipython",
    "version": 3
   },
   "file_extension": ".py",
   "mimetype": "text/x-python",
   "name": "python",
   "nbconvert_exporter": "python",
   "pygments_lexer": "ipython3",
   "version": "3.8.3"
  }
 },
 "nbformat": 4,
 "nbformat_minor": 4
}
