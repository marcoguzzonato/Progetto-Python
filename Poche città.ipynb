{
 "cells": [
  {
   "cell_type": "code",
   "execution_count": 386,
   "metadata": {},
   "outputs": [],
   "source": [
    "import xlrd\n",
    "import math as m"
   ]
  },
  {
   "cell_type": "code",
   "execution_count": 387,
   "metadata": {},
   "outputs": [],
   "source": [
    "class nodo():\n",
    "    def __init__(self,index,nome,id,flag,peso,prev,prox):\n",
    "        self.index=index\n",
    "        self.nome=nome\n",
    "        self.id=id\n",
    "        self.flag=flag\n",
    "        self.peso=peso\n",
    "        self.prev=prev\n",
    "        self.prox=prox"
   ]
  },
  {
   "cell_type": "code",
   "execution_count": 388,
   "metadata": {},
   "outputs": [],
   "source": [
    "def dist2punti(latA,lonA,latB,lonB):\n",
    "    Rt=6378.388\n",
    "    lat_A=(m.pi*latA)/180\n",
    "    lat_B=(m.pi*latB)/180\n",
    "    lon_A=(m.pi*lonA)/180\n",
    "    lon_B=(m.pi*lonB)/180\n",
    "    dl=abs(lon_A-lon_B)\n",
    "    p = m.acos((m.sin(lat_B)*m.sin(lat_A))+(m.cos(lat_B)*m.cos(lat_A)*m.cos(dl)))\n",
    "    if(lon_A>0 and lon_B>0): \n",
    "        if(lon_B > lon_A): \n",
    "            p=p\n",
    "        else:\n",
    "            p=2*m.pi-p\n",
    "    if(lon_A<0 and lon_B<0): \n",
    "        if(lon_B > lon_A): \n",
    "            p=p\n",
    "        else:\n",
    "            p=2*m.pi-p\n",
    "    if(lon_A>0 and lon_B<0):\n",
    "        if((lon_A+abs(lon_B))<m.pi): \n",
    "            p=2*m.pi-p\n",
    "        else:\n",
    "            p=p\n",
    "    if(lon_A<0 and lon_B>0):\n",
    "        if((lon_B+abs(lon_A))<m.pi): \n",
    "            p=p\n",
    "        else:\n",
    "            p=2*m.pi-p\n",
    "    return(p*Rt)"
   ]
  },
  {
   "cell_type": "code",
   "execution_count": 389,
   "metadata": {},
   "outputs": [],
   "source": [
    "file=xlrd.open_workbook(\"/Users/Tonino222power/Desktop/Dataset5.xlsx\")\n",
    "dati=file.sheet_by_name(\"Foglio1\")\n",
    "NR=dati.nrows\n",
    "NC=dati.ncols"
   ]
  },
  {
   "cell_type": "code",
   "execution_count": 390,
   "metadata": {},
   "outputs": [
    {
     "data": {
      "text/plain": [
       "481"
      ]
     },
     "execution_count": 390,
     "metadata": {},
     "output_type": "execute_result"
    }
   ],
   "source": [
    "NR"
   ]
  },
  {
   "cell_type": "code",
   "execution_count": 391,
   "metadata": {},
   "outputs": [],
   "source": [
    "pesi=[]\n",
    "nodi=[]"
   ]
  },
  {
   "cell_type": "code",
   "execution_count": 392,
   "metadata": {},
   "outputs": [],
   "source": [
    "nome=[]\n",
    "lat=[]\n",
    "lon=[]\n",
    "stato=[]\n",
    "pop=[]\n",
    "id=[]"
   ]
  },
  {
   "cell_type": "code",
   "execution_count": 393,
   "metadata": {},
   "outputs": [],
   "source": [
    "for i in range(1,NR):\n",
    "    id.append(str(int(dati.cell(i,0).value)))\n",
    "    nome.append(dati.cell(i,1).value)\n",
    "    lat.append(dati.cell(i,2).value)\n",
    "    lon.append(dati.cell(i,3).value)\n",
    "    stato.append(dati.cell(i,4).value)\n",
    "    pop.append(dati.cell(i,5).value)"
   ]
  },
  {
   "cell_type": "code",
   "execution_count": 394,
   "metadata": {},
   "outputs": [],
   "source": [
    "for i in range(0,NR-1):\n",
    "    if(pop[i]==''):\n",
    "        print(i)"
   ]
  },
  {
   "cell_type": "code",
   "execution_count": 395,
   "metadata": {},
   "outputs": [],
   "source": [
    "for i in range(0,NR-1):\n",
    "    if(pop[i]==''):\n",
    "        pop[i]=0"
   ]
  },
  {
   "cell_type": "code",
   "execution_count": 396,
   "metadata": {},
   "outputs": [],
   "source": [
    "doppioni=[]\n",
    "for i in range(0,NR-1):\n",
    "    for j in range(0,NR-1):\n",
    "        if(j!=i):\n",
    "            if(lat[j]==lat[i] and lon[j]==lon[i]):\n",
    "                print(j)\n",
    "                doppioni.append(j)"
   ]
  },
  {
   "cell_type": "code",
   "execution_count": 397,
   "metadata": {},
   "outputs": [],
   "source": [
    "for j in doppioni:\n",
    "    nome.pop(j)\n",
    "    lat.pop(j)\n",
    "    lon.pop(j)\n",
    "    stato.pop(j)\n",
    "    pop.pop(j)\n",
    "    id.pop(j)\n"
   ]
  },
  {
   "cell_type": "code",
   "execution_count": 398,
   "metadata": {},
   "outputs": [],
   "source": [
    "NR=len(nome)"
   ]
  },
  {
   "cell_type": "code",
   "execution_count": 399,
   "metadata": {},
   "outputs": [
    {
     "data": {
      "text/plain": [
       "480"
      ]
     },
     "execution_count": 399,
     "metadata": {},
     "output_type": "execute_result"
    }
   ],
   "source": [
    "NR"
   ]
  },
  {
   "cell_type": "code",
   "execution_count": 400,
   "metadata": {},
   "outputs": [],
   "source": [
    "città_inizio=\"Londra\"\n",
    "id_inizio=\"1826645935\"\n",
    "città_finale=\"Londra fine\"\n",
    "id_fine=\"1111111111\""
   ]
  },
  {
   "cell_type": "code",
   "execution_count": 401,
   "metadata": {},
   "outputs": [],
   "source": [
    "for i in range(0,NR):\n",
    "    if(id[i]==id_inizio):\n",
    "        id.append(id_fine)\n",
    "        nome.append(città_finale)\n",
    "        lat.append(lat[i])\n",
    "        lon.append(lon[i]-0.1)\n",
    "        stato.append(stato[i])\n",
    "        pop.append(pop[i])"
   ]
  },
  {
   "cell_type": "code",
   "execution_count": 402,
   "metadata": {},
   "outputs": [],
   "source": [
    "NR=len(nome)"
   ]
  },
  {
   "cell_type": "code",
   "execution_count": 403,
   "metadata": {},
   "outputs": [
    {
     "data": {
      "text/plain": [
       "481"
      ]
     },
     "execution_count": 403,
     "metadata": {},
     "output_type": "execute_result"
    }
   ],
   "source": [
    "NR"
   ]
  },
  {
   "cell_type": "code",
   "execution_count": 404,
   "metadata": {},
   "outputs": [],
   "source": [
    "for i in range(0,NR):\n",
    "    vicini=[]\n",
    "    for j in range(0,NR):\n",
    "        if(id[i]!=id[j]):\n",
    "            d=dist2punti(lat[i],lon[i],lat[j],lon[j])\n",
    "            if(len(vicini)==0):\n",
    "                vicini.append([id[j],nome[j],pop[j],stato[i],stato[j],d])\n",
    "            else:\n",
    "                for z in range(0,len(vicini)):\n",
    "                    if(d<vicini[z][5]):\n",
    "                        vicini.insert(z,[id[j],nome[j],pop[j],stato[i],stato[j],d])\n",
    "                        if(len(vicini)>3):\n",
    "                            vicini.pop(3)\n",
    "                        break\n",
    "                    if(z==2 and len(vicini)<3):\n",
    "                        vicini.append([id[j],nome[j],pop[j],stato[i],stato[j],d])\n",
    "    dizionario={}\n",
    "    for e in range(0,len(vicini)):\n",
    "        peso=2**(e+1)\n",
    "        if(vicini[e][2]>200000):\n",
    "            peso=peso+2\n",
    "        if(vicini[e][3]!=vicini[e][4]):\n",
    "            peso=peso+2\n",
    "        dizionario[vicini[e][0]]=peso \n",
    "    pesi.append(dizionario)\n",
    "    nodi.append(nodo(i,nome[i],id[i],True,float('inf'),\"\",pesi[i]))"
   ]
  },
  {
   "cell_type": "code",
   "execution_count": 405,
   "metadata": {},
   "outputs": [
    {
     "ename": "KeyboardInterrupt",
     "evalue": "",
     "output_type": "error",
     "traceback": [
      "\u001b[0;31m---------------------------------------------------------------------------\u001b[0m",
      "\u001b[0;31mKeyboardInterrupt\u001b[0m                         Traceback (most recent call last)",
      "\u001b[0;32m<ipython-input-405-daa688b89980>\u001b[0m in \u001b[0;36m<module>\u001b[0;34m\u001b[0m\n\u001b[1;32m      9\u001b[0m     \u001b[0;32mfor\u001b[0m \u001b[0mx\u001b[0m \u001b[0;32min\u001b[0m \u001b[0mnodi\u001b[0m\u001b[0;34m[\u001b[0m\u001b[0mi\u001b[0m\u001b[0;34m]\u001b[0m\u001b[0;34m.\u001b[0m\u001b[0mprox\u001b[0m\u001b[0;34m.\u001b[0m\u001b[0mkeys\u001b[0m\u001b[0;34m(\u001b[0m\u001b[0;34m)\u001b[0m\u001b[0;34m:\u001b[0m\u001b[0;34m\u001b[0m\u001b[0;34m\u001b[0m\u001b[0m\n\u001b[1;32m     10\u001b[0m         \u001b[0;32mfor\u001b[0m \u001b[0my\u001b[0m \u001b[0;32min\u001b[0m \u001b[0mnodi\u001b[0m\u001b[0;34m:\u001b[0m\u001b[0;34m\u001b[0m\u001b[0;34m\u001b[0m\u001b[0m\n\u001b[0;32m---> 11\u001b[0;31m             \u001b[0;32mif\u001b[0m\u001b[0;34m(\u001b[0m\u001b[0my\u001b[0m\u001b[0;34m.\u001b[0m\u001b[0mid\u001b[0m\u001b[0;34m==\u001b[0m\u001b[0mx\u001b[0m \u001b[0;32mand\u001b[0m \u001b[0my\u001b[0m\u001b[0;34m.\u001b[0m\u001b[0mflag\u001b[0m\u001b[0;34m)\u001b[0m\u001b[0;34m:\u001b[0m\u001b[0;34m\u001b[0m\u001b[0;34m\u001b[0m\u001b[0m\n\u001b[0m\u001b[1;32m     12\u001b[0m                 \u001b[0msomma\u001b[0m\u001b[0;34m=\u001b[0m\u001b[0mnodi\u001b[0m\u001b[0;34m[\u001b[0m\u001b[0mi\u001b[0m\u001b[0;34m]\u001b[0m\u001b[0;34m.\u001b[0m\u001b[0mpeso\u001b[0m \u001b[0;34m+\u001b[0m \u001b[0mnodi\u001b[0m\u001b[0;34m[\u001b[0m\u001b[0mi\u001b[0m\u001b[0;34m]\u001b[0m\u001b[0;34m.\u001b[0m\u001b[0mprox\u001b[0m\u001b[0;34m[\u001b[0m\u001b[0mx\u001b[0m\u001b[0;34m]\u001b[0m\u001b[0;34m\u001b[0m\u001b[0;34m\u001b[0m\u001b[0m\n\u001b[1;32m     13\u001b[0m                 \u001b[0;32mif\u001b[0m\u001b[0;34m(\u001b[0m\u001b[0my\u001b[0m\u001b[0;34m.\u001b[0m\u001b[0mpeso\u001b[0m\u001b[0;34m>\u001b[0m\u001b[0msomma\u001b[0m\u001b[0;34m)\u001b[0m\u001b[0;34m:\u001b[0m\u001b[0;34m\u001b[0m\u001b[0;34m\u001b[0m\u001b[0m\n",
      "\u001b[0;31mKeyboardInterrupt\u001b[0m: "
     ]
    }
   ],
   "source": [
    "for x in nodi :\n",
    "    if(x.id==id_inizio):\n",
    "        x.flag=False\n",
    "        x.peso=0\n",
    "        x.prev=id_inizio\n",
    "        i=x.index\n",
    "k=0\n",
    "while True:\n",
    "    for x in nodi[i].prox.keys():\n",
    "        for y in nodi:\n",
    "            if(y.id==x and y.flag):\n",
    "                somma=nodi[i].peso + nodi[i].prox[x]\n",
    "                if(y.peso>somma):\n",
    "                    y.peso=somma\n",
    "                    y.prev=nodi[i].id\n",
    "    \n",
    "    potenziale=float('inf')\n",
    "    for z in nodi:\n",
    "        if(z.flag and z.peso<potenziale):\n",
    "            potenziale=z.peso\n",
    "            n=z.index\n",
    "    \n",
    "    nodi[n].flag=False\n",
    "    i=n\n",
    "    if(k!=0 and nodi[i].id==id_fine):\n",
    "        lunghezza=nodi[i].peso\n",
    "        break\n",
    "    k=k+1\n",
    "\n",
    "percorso_id=[] \n",
    "percorso_nomi=[]\n",
    "s=id_fine\n",
    "while True:\n",
    "    percorso_id.append(s)\n",
    "    for x in nodi:\n",
    "        if(x.id==s):\n",
    "            s=x.prev\n",
    "    if(s==id_inizio):\n",
    "        percorso_id.append(s)\n",
    "        break\n",
    "\n",
    "for x in percorso_id:\n",
    "    for y in nodi:\n",
    "        if(y.id==x):\n",
    "            percorso_nomi.append(y.nome)\n",
    "        \n",
    "percorso_nomi.reverse()\n",
    "strada=\"-\".join(percorso_nomi)\n",
    "print(\"Tragitto: \" + strada)\n",
    "print(\"Il tempo minimo per completare il percorso è \"+str(lunghezza)+\" ore che corrispondono a \"+str(float(lunghezza)/24.)+\" giorni.\")"
   ]
  },
  {
   "cell_type": "code",
   "execution_count": null,
   "metadata": {},
   "outputs": [],
   "source": []
  }
 ],
 "metadata": {
  "kernelspec": {
   "display_name": "Python 3",
   "language": "python",
   "name": "python3"
  },
  "language_info": {
   "codemirror_mode": {
    "name": "ipython",
    "version": 3
   },
   "file_extension": ".py",
   "mimetype": "text/x-python",
   "name": "python",
   "nbconvert_exporter": "python",
   "pygments_lexer": "ipython3",
   "version": "3.8.3"
  }
 },
 "nbformat": 4,
 "nbformat_minor": 4
}
